{
 "cells": [
  {
   "cell_type": "code",
   "execution_count": 16,
   "id": "aca9c640",
   "metadata": {},
   "outputs": [
    {
     "name": "stdout",
     "output_type": "stream",
     "text": [
      "<class 'numpy.ndarray'>\n",
      "(512, 512, 3)\n",
      "<class 'PIL.Image.Image'>\n",
      "RGB\n",
      "(512, 512)\n"
     ]
    }
   ],
   "source": [
    "from PIL import Image\n",
    "import numpy as np\n",
    "from numpy import asarray\n",
    "\n",
    "# load the image\n",
    "\n",
    "image = Image.open('cat_posing.jpg')\n",
    "\n",
    "# convert image to numpy array\n",
    "\n",
    "data = asarray(image)\n",
    "\n",
    "print(type(data))\n",
    "\n",
    "# summarize shape\n",
    "\n",
    "print(data.shape)\n",
    "\n",
    "\n",
    "\n",
    "# create Pillow image\n",
    "\n",
    "image2 = Image.fromarray(data)\n",
    "\n",
    "print(type(image2))\n",
    "\n",
    "\n",
    "# summarize image details\n",
    "\n",
    "print(image2.mode)\n",
    "\n",
    "print(image2.size)"
   ]
  },
  {
   "cell_type": "code",
   "execution_count": 17,
   "id": "a6cb4034",
   "metadata": {},
   "outputs": [
    {
     "name": "stdout",
     "output_type": "stream",
     "text": [
      "[[[236 224 172]\n",
      "  [236 224 172]\n",
      "  [236 224 172]\n",
      "  ...\n",
      "  [232 230 189]\n",
      "  [230 231 189]\n",
      "  [230 231 189]]\n",
      "\n",
      " [[236 224 172]\n",
      "  [236 224 172]\n",
      "  [236 224 172]\n",
      "  ...\n",
      "  [232 230 189]\n",
      "  [230 231 189]\n",
      "  [230 231 189]]\n",
      "\n",
      " [[236 224 172]\n",
      "  [236 224 172]\n",
      "  [236 224 172]\n",
      "  ...\n",
      "  [232 230 189]\n",
      "  [230 231 189]\n",
      "  [230 231 189]]\n",
      "\n",
      " ...\n",
      "\n",
      " [[178 136  78]\n",
      "  [178 136  78]\n",
      "  [180 138  80]\n",
      "  ...\n",
      "  [234 230 192]\n",
      "  [234 230 192]\n",
      "  [234 230 192]]\n",
      "\n",
      " [[168 126  68]\n",
      "  [172 130  72]\n",
      "  [185 143  85]\n",
      "  ...\n",
      "  [234 230 192]\n",
      "  [234 230 192]\n",
      "  [234 230 192]]\n",
      "\n",
      " [[145 100  43]\n",
      "  [151 109  51]\n",
      "  [142  99  44]\n",
      "  ...\n",
      "  [234 230 192]\n",
      "  [234 230 192]\n",
      "  [234 230 192]]]\n"
     ]
    }
   ],
   "source": [
    "print(data)"
   ]
  },
  {
   "cell_type": "code",
   "execution_count": 18,
   "id": "3fcdf396",
   "metadata": {},
   "outputs": [],
   "source": [
    "# Importing Image and ImageOps module from PIL package\n",
    "from PIL import Image, ImageOps\n",
    "\n",
    "\n",
    "# applying grayscale method\n",
    "im2 = ImageOps.grayscale(image)\n",
    "\n",
    "im2.show()\n"
   ]
  },
  {
   "cell_type": "code",
   "execution_count": 19,
   "id": "d051732a",
   "metadata": {},
   "outputs": [],
   "source": [
    "brightness = asarray(im2)"
   ]
  },
  {
   "cell_type": "code",
   "execution_count": 20,
   "id": "89c25f81",
   "metadata": {},
   "outputs": [],
   "source": [
    "total_brightness = sum(sum(brightness))"
   ]
  },
  {
   "cell_type": "code",
   "execution_count": 22,
   "id": "b51f9a7e",
   "metadata": {},
   "outputs": [],
   "source": [
    "normalized_brightness= np.divide(brightness,total_brightness)"
   ]
  },
  {
   "cell_type": "code",
   "execution_count": 23,
   "id": "8f8cc90f",
   "metadata": {},
   "outputs": [],
   "source": [
    "w = .1 # meters\n",
    "h = .1 # meters\n",
    "area_total = w * h"
   ]
  },
  {
   "cell_type": "code",
   "execution_count": 128,
   "id": "de17dc8f",
   "metadata": {},
   "outputs": [],
   "source": [
    "from dolfin import *"
   ]
  },
  {
   "cell_type": "code",
   "execution_count": 129,
   "id": "fe103a3e",
   "metadata": {},
   "outputs": [],
   "source": [
    "mesh = RectangleMesh(Point(0,0), Point(w,h), 512,512)"
   ]
  },
  {
   "cell_type": "code",
   "execution_count": 130,
   "id": "ddaef4ed",
   "metadata": {},
   "outputs": [],
   "source": [
    "mesh = RectangleMesh.create([Point(0,0),Point(w,h)],[512,512],CellType.Type.quadrilateral)"
   ]
  },
  {
   "cell_type": "code",
   "execution_count": 131,
   "id": "0c3cc605",
   "metadata": {},
   "outputs": [],
   "source": [
    "V = FunctionSpace(mesh,\"CG\",1)\n",
    "D = FunctionSpace(mesh,\"DG\",0)"
   ]
  },
  {
   "cell_type": "code",
   "execution_count": 132,
   "id": "7324d589",
   "metadata": {},
   "outputs": [],
   "source": [
    "br = Function(D)\n",
    "\n",
    "br.vector().vec().array[:] = brightness.reshape(mesh.num_cells())"
   ]
  },
  {
   "cell_type": "code",
   "execution_count": 134,
   "id": "f0a46fe4",
   "metadata": {},
   "outputs": [],
   "source": [
    "with XDMFFile(\"brightness.xdmf\") as xdmf:\n",
    "    xdmf.write(br)"
   ]
  },
  {
   "cell_type": "code",
   "execution_count": 135,
   "id": "31f5a36a",
   "metadata": {},
   "outputs": [],
   "source": [
    "area = Function(D)\n",
    "v = TestFunction(D)\n",
    "\n",
    "area.vector()[:] = assemble(1*v*dx)"
   ]
  },
  {
   "cell_type": "code",
   "execution_count": 138,
   "id": "2080a81c",
   "metadata": {},
   "outputs": [
    {
     "data": {
      "text/plain": [
       "0.009999999999999966"
      ]
     },
     "execution_count": 138,
     "metadata": {},
     "output_type": "execute_result"
    }
   ],
   "source": [
    "area.vector()[:].sum()"
   ]
  },
  {
   "cell_type": "code",
   "execution_count": 173,
   "id": "2d942eee",
   "metadata": {},
   "outputs": [],
   "source": [
    "loss = br / Constant(total_brightness) - area / Constant(area_total)"
   ]
  },
  {
   "cell_type": "code",
   "execution_count": 174,
   "id": "d743e280",
   "metadata": {},
   "outputs": [],
   "source": [
    "loss = project(loss,V)"
   ]
  },
  {
   "cell_type": "code",
   "execution_count": 175,
   "id": "d09f8676",
   "metadata": {},
   "outputs": [
    {
     "data": {
      "text/plain": [
       "Coefficient(FunctionSpace(Mesh(VectorElement(FiniteElement('Q', quadrilateral, 1), dim=2), 170), FiniteElement('Q', quadrilateral, 1)), 295)"
      ]
     },
     "execution_count": 175,
     "metadata": {},
     "output_type": "execute_result"
    }
   ],
   "source": [
    "loss"
   ]
  },
  {
   "cell_type": "code",
   "execution_count": 152,
   "id": "ea5d59b9",
   "metadata": {},
   "outputs": [],
   "source": [
    "with XDMFFile(\"loss.xdmf\") as xdmf:\n",
    "    xdmf.write(loss)"
   ]
  },
  {
   "cell_type": "code",
   "execution_count": 153,
   "id": "a85f9142",
   "metadata": {},
   "outputs": [
    {
     "ename": "RuntimeError",
     "evalue": "\n\n*** -------------------------------------------------------------------------\n*** DOLFIN encountered an error. If you are not able to resolve this issue\n*** using the information listed below, you can ask for help at\n***\n***     fenics-support@googlegroups.com\n***\n*** Remember to include the error message listed below and, if possible,\n*** include a *minimal* running example to reproduce the error.\n***\n*** -------------------------------------------------------------------------\n*** Error:   Unable to assemble system.\n*** Reason:  expected a linear form for L.\n*** Where:   This error was encountered inside SystemAssembler.cpp.\n*** Process: 0\n*** \n*** DOLFIN version: 2019.2.0.dev0\n*** Git changeset:  unknown\n*** -------------------------------------------------------------------------\n",
     "output_type": "error",
     "traceback": [
      "\u001b[0;31m---------------------------------------------------------------------------\u001b[0m",
      "\u001b[0;31mRuntimeError\u001b[0m                              Traceback (most recent call last)",
      "\u001b[0;32m/tmp/ipykernel_254705/1108965556.py\u001b[0m in \u001b[0;36m<module>\u001b[0;34m\u001b[0m\n\u001b[0;32m----> 1\u001b[0;31m \u001b[0mgloss\u001b[0m \u001b[0;34m=\u001b[0m \u001b[0mproject\u001b[0m\u001b[0;34m(\u001b[0m\u001b[0mgrad\u001b[0m\u001b[0;34m(\u001b[0m\u001b[0mloss\u001b[0m\u001b[0;34m)\u001b[0m\u001b[0;34m,\u001b[0m\u001b[0mVectorFunctionSpace\u001b[0m\u001b[0;34m(\u001b[0m\u001b[0mmesh\u001b[0m\u001b[0;34m,\u001b[0m\u001b[0;34m\"DG\"\u001b[0m\u001b[0;34m,\u001b[0m\u001b[0;36m0\u001b[0m\u001b[0;34m)\u001b[0m\u001b[0;34m)\u001b[0m\u001b[0;34m\u001b[0m\u001b[0;34m\u001b[0m\u001b[0m\n\u001b[0m",
      "\u001b[0;32m/usr/lib/petsc/lib/python3/dist-packages/dolfin/fem/projection.py\u001b[0m in \u001b[0;36mproject\u001b[0;34m(v, V, bcs, mesh, function, solver_type, preconditioner_type, form_compiler_parameters)\u001b[0m\n\u001b[1;32m    130\u001b[0m \u001b[0;34m\u001b[0m\u001b[0m\n\u001b[1;32m    131\u001b[0m     \u001b[0;31m# Assemble linear system\u001b[0m\u001b[0;34m\u001b[0m\u001b[0;34m\u001b[0m\u001b[0;34m\u001b[0m\u001b[0m\n\u001b[0;32m--> 132\u001b[0;31m     A, b = assemble_system(a, L, bcs=bcs,\n\u001b[0m\u001b[1;32m    133\u001b[0m                            form_compiler_parameters=form_compiler_parameters)\n\u001b[1;32m    134\u001b[0m \u001b[0;34m\u001b[0m\u001b[0m\n",
      "\u001b[0;32m/usr/lib/petsc/lib/python3/dist-packages/dolfin/fem/assembling.py\u001b[0m in \u001b[0;36massemble_system\u001b[0;34m(A_form, b_form, bcs, x0, form_compiler_parameters, add_values, finalize_tensor, keep_diagonal, A_tensor, b_tensor, backend)\u001b[0m\n\u001b[1;32m    421\u001b[0m \u001b[0;34m\u001b[0m\u001b[0m\n\u001b[1;32m    422\u001b[0m     \u001b[0;31m# Call C++ assemble function\u001b[0m\u001b[0;34m\u001b[0m\u001b[0;34m\u001b[0m\u001b[0;34m\u001b[0m\u001b[0m\n\u001b[0;32m--> 423\u001b[0;31m     \u001b[0massembler\u001b[0m \u001b[0;34m=\u001b[0m \u001b[0mcpp\u001b[0m\u001b[0;34m.\u001b[0m\u001b[0mfem\u001b[0m\u001b[0;34m.\u001b[0m\u001b[0mSystemAssembler\u001b[0m\u001b[0;34m(\u001b[0m\u001b[0mA_dolfin_form\u001b[0m\u001b[0;34m,\u001b[0m \u001b[0mb_dolfin_form\u001b[0m\u001b[0;34m,\u001b[0m \u001b[0mbcs\u001b[0m\u001b[0;34m)\u001b[0m\u001b[0;34m\u001b[0m\u001b[0;34m\u001b[0m\u001b[0m\n\u001b[0m\u001b[1;32m    424\u001b[0m     \u001b[0massembler\u001b[0m\u001b[0;34m.\u001b[0m\u001b[0madd_values\u001b[0m \u001b[0;34m=\u001b[0m \u001b[0madd_values\u001b[0m\u001b[0;34m\u001b[0m\u001b[0;34m\u001b[0m\u001b[0m\n\u001b[1;32m    425\u001b[0m     \u001b[0massembler\u001b[0m\u001b[0;34m.\u001b[0m\u001b[0mfinalize_tensor\u001b[0m \u001b[0;34m=\u001b[0m \u001b[0mfinalize_tensor\u001b[0m\u001b[0;34m\u001b[0m\u001b[0;34m\u001b[0m\u001b[0m\n",
      "\u001b[0;31mRuntimeError\u001b[0m: \n\n*** -------------------------------------------------------------------------\n*** DOLFIN encountered an error. If you are not able to resolve this issue\n*** using the information listed below, you can ask for help at\n***\n***     fenics-support@googlegroups.com\n***\n*** Remember to include the error message listed below and, if possible,\n*** include a *minimal* running example to reproduce the error.\n***\n*** -------------------------------------------------------------------------\n*** Error:   Unable to assemble system.\n*** Reason:  expected a linear form for L.\n*** Where:   This error was encountered inside SystemAssembler.cpp.\n*** Process: 0\n*** \n*** DOLFIN version: 2019.2.0.dev0\n*** Git changeset:  unknown\n*** -------------------------------------------------------------------------\n"
     ]
    }
   ],
   "source": [
    "gloss = project(grad(loss),VectorFunctionSpace(mesh,\"DG\",0))"
   ]
  },
  {
   "cell_type": "code",
   "execution_count": 154,
   "id": "71b92f2a",
   "metadata": {},
   "outputs": [],
   "source": [
    "with XDMFFile(\"gloss.xdmf\") as xdmf:\n",
    "    xdmf.write(gloss)"
   ]
  },
  {
   "cell_type": "code",
   "execution_count": 155,
   "id": "359e9ee5",
   "metadata": {},
   "outputs": [],
   "source": [
    "ph =  Function(D)"
   ]
  },
  {
   "cell_type": "code",
   "execution_count": 156,
   "id": "16a6f869",
   "metadata": {},
   "outputs": [],
   "source": [
    "u = TrialFunction(D)\n",
    "v = TestFunction(D)\n",
    "\n",
    "a = inner(grad(u), grad(v))*dx"
   ]
  },
  {
   "cell_type": "code",
   "execution_count": 157,
   "id": "7d32871f",
   "metadata": {},
   "outputs": [
    {
     "name": "stdout",
     "output_type": "stream",
     "text": [
      "Calling FFC just-in-time (JIT) compiler, this may take some time.\n",
      "Solving linear variational problem.\n"
     ]
    }
   ],
   "source": [
    "solve(a == -loss*v*dx,ph)"
   ]
  },
  {
   "cell_type": "code",
   "execution_count": 158,
   "id": "64791f78",
   "metadata": {},
   "outputs": [],
   "source": [
    "with XDMFFile(\"phi.xdmf\") as xdmf:\n",
    "    xdmf.write(ph)"
   ]
  },
  {
   "cell_type": "code",
   "execution_count": 159,
   "id": "a6bf1f79",
   "metadata": {},
   "outputs": [
    {
     "data": {
      "text/plain": [
       "-inf"
      ]
     },
     "execution_count": 159,
     "metadata": {},
     "output_type": "execute_result"
    }
   ],
   "source": [
    "ph.vector().min()"
   ]
  },
  {
   "cell_type": "code",
   "execution_count": 160,
   "id": "ba06af7a",
   "metadata": {},
   "outputs": [
    {
     "data": {
      "text/plain": [
       "-inf"
      ]
     },
     "execution_count": 160,
     "metadata": {},
     "output_type": "execute_result"
    }
   ],
   "source": [
    "ph.vector().max()"
   ]
  },
  {
   "cell_type": "code",
   "execution_count": null,
   "id": "8c5ea46f",
   "metadata": {},
   "outputs": [],
   "source": []
  },
  {
   "cell_type": "code",
   "execution_count": null,
   "id": "634460cd",
   "metadata": {},
   "outputs": [],
   "source": []
  },
  {
   "cell_type": "code",
   "execution_count": null,
   "id": "3a1b00c4",
   "metadata": {},
   "outputs": [],
   "source": []
  },
  {
   "cell_type": "code",
   "execution_count": null,
   "id": "d77a5e86",
   "metadata": {},
   "outputs": [],
   "source": []
  },
  {
   "cell_type": "code",
   "execution_count": null,
   "id": "555e6205",
   "metadata": {},
   "outputs": [],
   "source": []
  },
  {
   "cell_type": "code",
   "execution_count": null,
   "id": "d126f827",
   "metadata": {},
   "outputs": [],
   "source": []
  },
  {
   "cell_type": "code",
   "execution_count": 200,
   "id": "888ceab5",
   "metadata": {},
   "outputs": [],
   "source": [
    "from dolfin import *\n",
    "\n",
    "mesh = RectangleMesh.create([Point(0, 0), Point(w, h)],[512,512],CellType.Type.quadrilateral)\n",
    "P1 = FiniteElement(\"Lagrange\", mesh.ufl_cell(), 1)"
   ]
  },
  {
   "cell_type": "code",
   "execution_count": 201,
   "id": "d3a92e9e",
   "metadata": {},
   "outputs": [
    {
     "name": "stdout",
     "output_type": "stream",
     "text": [
      "Calling FFC just-in-time (JIT) compiler, this may take some time.\n",
      "Calling FFC just-in-time (JIT) compiler, this may take some time.\n"
     ]
    }
   ],
   "source": [
    "# Build function space with Lagrange multiplier\n",
    "P1 = FiniteElement(\"Lagrange\", mesh.ufl_cell(), 1)\n",
    "R = FiniteElement(\"Real\", mesh.ufl_cell(), 0)\n",
    "W = FunctionSpace(mesh, P1 * R)\n",
    "\n",
    "# Define variational problem\n",
    "(u, c) = TrialFunction(W)\n",
    "(v, d) = TestFunctions(W)"
   ]
  },
  {
   "cell_type": "code",
   "execution_count": 206,
   "id": "4fffa073",
   "metadata": {},
   "outputs": [],
   "source": [
    "D = FunctionSpace(mesh,\"DG\",0)\n",
    "br = Function(D)\n",
    "br.vector().vec().array[:] = brightness.reshape(mesh.num_cells())"
   ]
  },
  {
   "cell_type": "code",
   "execution_count": 209,
   "id": "92c58e80",
   "metadata": {},
   "outputs": [],
   "source": [
    "V = FunctionSpace(mesh,\"CG\",1)\n",
    "br= project(br,V)"
   ]
  },
  {
   "cell_type": "code",
   "execution_count": 222,
   "id": "91bb4f85",
   "metadata": {},
   "outputs": [],
   "source": [
    "(cr,dr) = Function(W).split()\n",
    "(ar,er) = Function(W).split()"
   ]
  },
  {
   "cell_type": "code",
   "execution_count": 223,
   "id": "5afca75c",
   "metadata": {},
   "outputs": [
    {
     "data": {
      "text/plain": [
       "263169"
      ]
     },
     "execution_count": 223,
     "metadata": {},
     "output_type": "execute_result"
    }
   ],
   "source": [
    "br.vector().size()"
   ]
  },
  {
   "cell_type": "code",
   "execution_count": 224,
   "id": "e5fad465",
   "metadata": {},
   "outputs": [],
   "source": [
    "cr.vector().vec().array[0:br.vector().size()] = br.vector()[:]"
   ]
  },
  {
   "cell_type": "code",
   "execution_count": 225,
   "id": "2688942d",
   "metadata": {},
   "outputs": [],
   "source": [
    "area = Function(D)\n",
    "vv = TestFunction(D)\n",
    "\n",
    "area.vector()[:] = assemble(1*vv*dx)"
   ]
  },
  {
   "cell_type": "code",
   "execution_count": 227,
   "id": "d9e7a3cd",
   "metadata": {},
   "outputs": [],
   "source": [
    "ar.vector().vec().array[0:area.vector().size()] = area.vector()[:]"
   ]
  },
  {
   "cell_type": "code",
   "execution_count": null,
   "id": "e55c2dfa",
   "metadata": {},
   "outputs": [],
   "source": []
  },
  {
   "cell_type": "code",
   "execution_count": 228,
   "id": "63560f8c",
   "metadata": {},
   "outputs": [],
   "source": [
    "loss = cr / Constant(total_brightness) - ar / Constant(area_total)"
   ]
  },
  {
   "cell_type": "code",
   "execution_count": 229,
   "id": "4bd1f5e0",
   "metadata": {},
   "outputs": [
    {
     "name": "stdout",
     "output_type": "stream",
     "text": [
      "Calling FFC just-in-time (JIT) compiler, this may take some time.\n",
      "Calling FFC just-in-time (JIT) compiler, this may take some time.\n",
      "Solving linear variational problem.\n"
     ]
    }
   ],
   "source": [
    "a = (inner(grad(u), grad(v)) + c*v + u*d)*dx\n",
    "L = loss*v*dx\n",
    "\n",
    "# Compute solution\n",
    "w = Function(W)\n",
    "solve(a == L, w)\n",
    "(u, c) = w.split()"
   ]
  },
  {
   "cell_type": "code",
   "execution_count": 230,
   "id": "0d804cf8",
   "metadata": {},
   "outputs": [],
   "source": [
    "with XDMFFile(\"phi.xdmf\") as xdmf:\n",
    "    xdmf.write(u)"
   ]
  },
  {
   "cell_type": "code",
   "execution_count": null,
   "id": "af3118d5",
   "metadata": {},
   "outputs": [],
   "source": []
  }
 ],
 "metadata": {
  "kernelspec": {
   "display_name": "Python 3 (ipykernel)",
   "language": "python",
   "name": "python3"
  },
  "language_info": {
   "codemirror_mode": {
    "name": "ipython",
    "version": 3
   },
   "file_extension": ".py",
   "mimetype": "text/x-python",
   "name": "python",
   "nbconvert_exporter": "python",
   "pygments_lexer": "ipython3",
   "version": "3.8.10"
  }
 },
 "nbformat": 4,
 "nbformat_minor": 5
}
