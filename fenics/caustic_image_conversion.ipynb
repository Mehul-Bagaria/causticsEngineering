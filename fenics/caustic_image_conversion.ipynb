{
 "cells": [
  {
   "cell_type": "code",
   "execution_count": 6,
   "id": "888ceab5",
   "metadata": {},
   "outputs": [],
   "source": [
    "from dolfin import *\n",
    "from PIL import Image, ImageOps\n",
    "import numpy as np\n",
    "from numpy import asarray"
   ]
  },
  {
   "cell_type": "code",
   "execution_count": 7,
   "id": "8f8cc90f",
   "metadata": {},
   "outputs": [],
   "source": [
    "w = .1 # meters\n",
    "h = .1 # meters\n",
    "area_total = w * h"
   ]
  },
  {
   "cell_type": "code",
   "execution_count": 8,
   "id": "a5be3787-56d7-48c9-acde-df94705a7fc7",
   "metadata": {},
   "outputs": [],
   "source": [
    "# image = Image.open('cat_posing.jpg')\n",
    "image = Image.open('mehul.png')\n",
    "im2 = ImageOps.grayscale(image)\n",
    "brightness = asarray(im2)\n",
    "total_brightness = sum(sum(brightness))"
   ]
  },
  {
   "cell_type": "code",
   "execution_count": 9,
   "id": "a8c2a42f-e177-4fda-abcf-41f55b1588e2",
   "metadata": {},
   "outputs": [],
   "source": [
    "mesh_ = RectangleMesh.create([Point(0, 0), Point(w, h)],[512,512],CellType.Type.quadrilateral)"
   ]
  },
  {
   "cell_type": "code",
   "execution_count": null,
   "id": "57553b99-28fa-4956-b7a2-b51536c2b786",
   "metadata": {},
   "outputs": [
    {
     "name": "stdout",
     "output_type": "stream",
     "text": [
      "0.000279670266071706\n",
      "0.00028082372854502263\n",
      "0.00028196419148793944\n"
     ]
    }
   ],
   "source": [
    "for ii in range(4):\n",
    "# Build function space with Lagrange multiplier\n",
    "    P1 = FiniteElement(\"Lagrange\", mesh_.ufl_cell(), 1)\n",
    "    R = FiniteElement(\"Real\", mesh_.ufl_cell(), 0)\n",
    "    W = FunctionSpace(mesh_, P1 * R)\n",
    "\n",
    "    # Define variational problem\n",
    "    (u, c) = TrialFunction(W)\n",
    "    (v, d) = TestFunctions(W)\n",
    "\n",
    "    D = FunctionSpace(mesh_,\"DG\",0)\n",
    "    br = Function(D)\n",
    "    br.vector().vec().array[:] = brightness.reshape(mesh_.num_cells())\n",
    "\n",
    "    V = FunctionSpace(mesh_,\"CG\",1)\n",
    "    br= project(br,V)\n",
    "\n",
    "    (cr,dr) = Function(W).split()\n",
    "    (ar,er) = Function(W).split()\n",
    "\n",
    "    cr.vector().vec().array[0:br.vector().size()] = br.vector()[:]\n",
    "\n",
    "    area = Function(D)\n",
    "    vv = TestFunction(D)\n",
    "\n",
    "    area.vector()[:] = assemble(1*vv*dx)\n",
    "    ar.vector().vec().array[0:area.vector().size()] = area.vector()[:]\n",
    "\n",
    "    loss = cr / Constant(total_brightness) - ar / Constant(area_total)\n",
    "\n",
    "    a = (inner(grad(u), grad(v)) + c*v + u*d)*dx\n",
    "    L = -loss*v*dx\n",
    "\n",
    "    # Compute solution\n",
    "    w = Function(W)\n",
    "    solve(a == L, w)\n",
    "    (u, c) = w.split()\n",
    "\n",
    "    with XDMFFile(\"phi.xdmf\") as xdmf:\n",
    "        xdmf.write(u,ii)\n",
    "\n",
    "    print(norm(project(loss,D)))\n",
    "\n",
    "    grad_u = project(grad(u),VectorFunctionSpace(mesh_,\"CG\",1))\n",
    "    g_u = grad_u.compute_vertex_values()\n",
    "    with XDMFFile(\"grad_u.xdmf\") as xdmf:\n",
    "        xdmf.write(grad_u)\n",
    "\n",
    "    mesh_co=mesh_.coordinates()\n",
    "    nv = mesh_.num_vertices()\n",
    "    g_un=np.zeros((nv,2))\n",
    "    g_un[:,0]=g_u[0:nv]\n",
    "    g_un[:,1]=g_u[nv:2*nv]\n",
    "    step = 10\n",
    "\n",
    "    mesh_.coordinates()[:]=mesh_co+step*g_un"
   ]
  },
  {
   "cell_type": "code",
   "execution_count": null,
   "id": "3fffd170-422a-4653-9da4-f8f124956c5f",
   "metadata": {},
   "outputs": [],
   "source": []
  },
  {
   "cell_type": "code",
   "execution_count": null,
   "id": "88db2011-611a-4a96-8810-ee073972abdc",
   "metadata": {},
   "outputs": [],
   "source": []
  },
  {
   "cell_type": "code",
   "execution_count": null,
   "id": "0416b331-454b-44f0-8c04-01e5bb40d961",
   "metadata": {},
   "outputs": [],
   "source": []
  },
  {
   "cell_type": "code",
   "execution_count": 96,
   "id": "49e5cd77-729d-497c-83ed-a6990598addc",
   "metadata": {},
   "outputs": [],
   "source": [
    "g_u = grad_u.compute_vertex_values()"
   ]
  },
  {
   "cell_type": "code",
   "execution_count": 93,
   "id": "a8215cd0-7b74-40d0-9a5a-25c37eb9e841",
   "metadata": {},
   "outputs": [
    {
     "data": {
      "text/plain": [
       "3.747870501904941e-08"
      ]
     },
     "execution_count": 93,
     "metadata": {},
     "output_type": "execute_result"
    }
   ],
   "source": [
    "g_u[mesh_.num_vertices()]"
   ]
  },
  {
   "cell_type": "code",
   "execution_count": 99,
   "id": "5c41c588-3c53-44fc-8165-80af495e4e10",
   "metadata": {},
   "outputs": [],
   "source": []
  },
  {
   "cell_type": "code",
   "execution_count": 100,
   "id": "586762b4-4438-4719-85d3-c2d87e4a9939",
   "metadata": {},
   "outputs": [
    {
     "data": {
      "text/plain": [
       "array([[ 2.64318478e-08,  3.74787050e-08],\n",
       "       [ 8.36406075e-08,  3.88219996e-08],\n",
       "       [ 1.82486202e-07,  4.04677279e-08],\n",
       "       ...,\n",
       "       [-7.90285747e-07,  4.17947883e-08],\n",
       "       [-3.65399718e-07,  4.41713315e-08],\n",
       "       [-1.16803704e-07,  4.73168635e-08]])"
      ]
     },
     "execution_count": 100,
     "metadata": {},
     "output_type": "execute_result"
    }
   ],
   "source": [
    "g_un"
   ]
  },
  {
   "cell_type": "code",
   "execution_count": null,
   "id": "03654fe1-b0ab-40d0-bc9f-36d78f614976",
   "metadata": {},
   "outputs": [],
   "source": []
  },
  {
   "cell_type": "code",
   "execution_count": null,
   "id": "0166c40a-64d2-4eb0-bb65-c6b545d1b462",
   "metadata": {},
   "outputs": [],
   "source": []
  },
  {
   "cell_type": "code",
   "execution_count": 88,
   "id": "29f34900-b358-4899-b1d5-b8d9177ab289",
   "metadata": {},
   "outputs": [],
   "source": [
    "mesh_.coordinates()[0,0] = 0.0001"
   ]
  },
  {
   "cell_type": "code",
   "execution_count": 89,
   "id": "163a36fb-bfc3-439b-af8d-f8ecb3ccd8a3",
   "metadata": {},
   "outputs": [
    {
     "data": {
      "text/plain": [
       "array([[0.0001    , 0.        ],\n",
       "       [0.00019531, 0.0001    ],\n",
       "       [0.00039063, 0.        ],\n",
       "       ...,\n",
       "       [0.09960938, 0.1       ],\n",
       "       [0.09980469, 0.1       ],\n",
       "       [0.1       , 0.1       ]])"
      ]
     },
     "execution_count": 89,
     "metadata": {},
     "output_type": "execute_result"
    }
   ],
   "source": [
    "mesh_.coordinates()"
   ]
  },
  {
   "cell_type": "code",
   "execution_count": 74,
   "id": "4e77f99e-7dd3-4c4b-9479-fdf0f5d5281b",
   "metadata": {},
   "outputs": [
    {
     "data": {
      "text/plain": [
       "263169"
      ]
     },
     "execution_count": 74,
     "metadata": {},
     "output_type": "execute_result"
    }
   ],
   "source": [
    "mesh.num_vertices()"
   ]
  },
  {
   "cell_type": "code",
   "execution_count": 44,
   "id": "bc5eb745-130f-46af-826d-67702a834733",
   "metadata": {},
   "outputs": [],
   "source": [
    "mag = np.sqrt(g_u[1][1]**2+g_u[1][1]**2)"
   ]
  },
  {
   "cell_type": "code",
   "execution_count": 45,
   "id": "5c95e399-8675-443d-94ff-9f1836775f80",
   "metadata": {},
   "outputs": [
    {
     "data": {
      "text/plain": [
       "array([0.46724043, 0.70710678])"
      ]
     },
     "execution_count": 45,
     "metadata": {},
     "output_type": "execute_result"
    }
   ],
   "source": [
    "g_u[1]/mag"
   ]
  },
  {
   "cell_type": "code",
   "execution_count": 52,
   "id": "c23e766d-9f48-403f-859a-7114af13aee3",
   "metadata": {},
   "outputs": [
    {
     "data": {
      "text/plain": [
       "0.00016470458559087164"
      ]
     },
     "execution_count": 52,
     "metadata": {},
     "output_type": "execute_result"
    }
   ],
   "source": [
    "mesh.hmin()"
   ]
  },
  {
   "cell_type": "code",
   "execution_count": 50,
   "id": "d3fac8f0-814b-4c29-85b0-e05d7827b89a",
   "metadata": {},
   "outputs": [],
   "source": []
  },
  {
   "cell_type": "code",
   "execution_count": null,
   "id": "7a71cbc6-0d5f-49a2-9a4c-474f909dda86",
   "metadata": {},
   "outputs": [],
   "source": []
  },
  {
   "cell_type": "code",
   "execution_count": null,
   "id": "f8767074-bae9-46ec-add3-309abd2bf32c",
   "metadata": {},
   "outputs": [],
   "source": []
  },
  {
   "cell_type": "code",
   "execution_count": null,
   "id": "4d54bbae-6b46-420f-8194-17359d921ebe",
   "metadata": {},
   "outputs": [],
   "source": []
  },
  {
   "cell_type": "code",
   "execution_count": null,
   "id": "456b28a3-d9cd-46d9-9ab2-8084ce1455dc",
   "metadata": {},
   "outputs": [],
   "source": []
  },
  {
   "cell_type": "code",
   "execution_count": null,
   "id": "55e45ad2-8a67-419d-a621-f6a3f1b57cb4",
   "metadata": {},
   "outputs": [],
   "source": []
  },
  {
   "cell_type": "code",
   "execution_count": null,
   "id": "6611bf4e-14f7-4d9b-9a05-56a2e52ce69f",
   "metadata": {},
   "outputs": [],
   "source": []
  },
  {
   "cell_type": "code",
   "execution_count": null,
   "id": "51b00530-75bd-40a2-8b67-208e023c4741",
   "metadata": {},
   "outputs": [],
   "source": []
  },
  {
   "cell_type": "code",
   "execution_count": 2,
   "id": "aca9c640",
   "metadata": {},
   "outputs": [
    {
     "name": "stdout",
     "output_type": "stream",
     "text": [
      "<class 'numpy.ndarray'>\n",
      "(512, 512, 3)\n",
      "<class 'PIL.Image.Image'>\n",
      "RGB\n",
      "(512, 512)\n"
     ]
    }
   ],
   "source": [
    "from PIL import Image\n",
    "import numpy as np\n",
    "from numpy import asarray\n",
    "\n",
    "# load the image\n",
    "\n",
    "image = Image.open('cat_posing.jpg')\n",
    "\n",
    "# convert image to numpy array\n",
    "\n",
    "data = asarray(image)\n",
    "\n",
    "print(type(data))\n",
    "\n",
    "# summarize shape\n",
    "\n",
    "print(data.shape)\n",
    "\n",
    "\n",
    "\n",
    "# create Pillow image\n",
    "\n",
    "image2 = Image.fromarray(data)\n",
    "\n",
    "print(type(image2))\n",
    "\n",
    "\n",
    "# summarize image details\n",
    "\n",
    "print(image2.mode)\n",
    "\n",
    "print(image2.size)"
   ]
  },
  {
   "cell_type": "code",
   "execution_count": 3,
   "id": "a6cb4034",
   "metadata": {},
   "outputs": [
    {
     "name": "stdout",
     "output_type": "stream",
     "text": [
      "[[[236 224 172]\n",
      "  [236 224 172]\n",
      "  [236 224 172]\n",
      "  ...\n",
      "  [232 230 189]\n",
      "  [230 231 189]\n",
      "  [230 231 189]]\n",
      "\n",
      " [[236 224 172]\n",
      "  [236 224 172]\n",
      "  [236 224 172]\n",
      "  ...\n",
      "  [232 230 189]\n",
      "  [230 231 189]\n",
      "  [230 231 189]]\n",
      "\n",
      " [[236 224 172]\n",
      "  [236 224 172]\n",
      "  [236 224 172]\n",
      "  ...\n",
      "  [232 230 189]\n",
      "  [230 231 189]\n",
      "  [230 231 189]]\n",
      "\n",
      " ...\n",
      "\n",
      " [[178 136  78]\n",
      "  [178 136  78]\n",
      "  [180 138  80]\n",
      "  ...\n",
      "  [234 230 192]\n",
      "  [234 230 192]\n",
      "  [234 230 192]]\n",
      "\n",
      " [[168 126  68]\n",
      "  [172 130  72]\n",
      "  [185 143  85]\n",
      "  ...\n",
      "  [234 230 192]\n",
      "  [234 230 192]\n",
      "  [234 230 192]]\n",
      "\n",
      " [[145 100  43]\n",
      "  [151 109  51]\n",
      "  [142  99  44]\n",
      "  ...\n",
      "  [234 230 192]\n",
      "  [234 230 192]\n",
      "  [234 230 192]]]\n"
     ]
    }
   ],
   "source": [
    "print(data)"
   ]
  },
  {
   "cell_type": "code",
   "execution_count": 4,
   "id": "b17c9a58-e0f6-4370-b854-825a7f848f0f",
   "metadata": {},
   "outputs": [],
   "source": [
    "# Importing Image and ImageOps module from PIL package\n",
    "from PIL import Image, ImageOps\n",
    "\n",
    "\n",
    "# applying grayscale method\n",
    "im2 = ImageOps.grayscale(image)\n",
    "brightness = asarray(im2)"
   ]
  },
  {
   "cell_type": "code",
   "execution_count": 6,
   "id": "89c25f81",
   "metadata": {},
   "outputs": [],
   "source": [
    "total_brightness = sum(sum(brightness))"
   ]
  },
  {
   "cell_type": "code",
   "execution_count": 7,
   "id": "b51f9a7e",
   "metadata": {},
   "outputs": [],
   "source": [
    "normalized_brightness= np.divide(brightness,total_brightness)"
   ]
  },
  {
   "cell_type": "code",
   "execution_count": 9,
   "id": "de17dc8f",
   "metadata": {},
   "outputs": [],
   "source": [
    "from dolfin import *"
   ]
  },
  {
   "cell_type": "code",
   "execution_count": 10,
   "id": "fe103a3e",
   "metadata": {},
   "outputs": [],
   "source": [
    "mesh = RectangleMesh(Point(0,0), Point(w,h), 512,512)"
   ]
  },
  {
   "cell_type": "code",
   "execution_count": 11,
   "id": "ddaef4ed",
   "metadata": {},
   "outputs": [],
   "source": [
    "mesh = RectangleMesh.create([Point(0,0),Point(w,h)],[512,512],CellType.Type.quadrilateral)"
   ]
  },
  {
   "cell_type": "code",
   "execution_count": 12,
   "id": "0c3cc605",
   "metadata": {},
   "outputs": [
    {
     "name": "stdout",
     "output_type": "stream",
     "text": [
      "Calling FFC just-in-time (JIT) compiler, this may take some time.\n",
      "Calling FFC just-in-time (JIT) compiler, this may take some time.\n"
     ]
    }
   ],
   "source": [
    "V = FunctionSpace(mesh,\"CG\",1)\n",
    "D = FunctionSpace(mesh,\"DG\",0)"
   ]
  },
  {
   "cell_type": "code",
   "execution_count": 13,
   "id": "7324d589",
   "metadata": {},
   "outputs": [],
   "source": [
    "br = Function(D)\n",
    "\n",
    "br.vector().vec().array[:] = brightness.reshape(mesh.num_cells())"
   ]
  },
  {
   "cell_type": "code",
   "execution_count": 14,
   "id": "f0a46fe4",
   "metadata": {},
   "outputs": [],
   "source": [
    "with XDMFFile(\"brightness.xdmf\") as xdmf:\n",
    "    xdmf.write(br)"
   ]
  },
  {
   "cell_type": "code",
   "execution_count": 15,
   "id": "31f5a36a",
   "metadata": {},
   "outputs": [
    {
     "name": "stdout",
     "output_type": "stream",
     "text": [
      "Calling FFC just-in-time (JIT) compiler, this may take some time.\n",
      "Calling FFC just-in-time (JIT) compiler, this may take some time.\n",
      "Calling FFC just-in-time (JIT) compiler, this may take some time.\n",
      "Calling FFC just-in-time (JIT) compiler, this may take some time.\n",
      "Calling FFC just-in-time (JIT) compiler, this may take some time.\n"
     ]
    }
   ],
   "source": [
    "area = Function(D)\n",
    "v = TestFunction(D)\n",
    "\n",
    "area.vector()[:] = assemble(1*v*dx)"
   ]
  },
  {
   "cell_type": "code",
   "execution_count": 16,
   "id": "2080a81c",
   "metadata": {},
   "outputs": [
    {
     "data": {
      "text/plain": [
       "0.009999999999999966"
      ]
     },
     "execution_count": 16,
     "metadata": {},
     "output_type": "execute_result"
    }
   ],
   "source": [
    "area.vector()[:].sum()"
   ]
  },
  {
   "cell_type": "code",
   "execution_count": 17,
   "id": "2d942eee",
   "metadata": {},
   "outputs": [],
   "source": [
    "loss = br / Constant(total_brightness) - area / Constant(area_total)"
   ]
  },
  {
   "cell_type": "code",
   "execution_count": 18,
   "id": "d743e280",
   "metadata": {},
   "outputs": [
    {
     "name": "stdout",
     "output_type": "stream",
     "text": [
      "Calling FFC just-in-time (JIT) compiler, this may take some time.\n",
      "Calling FFC just-in-time (JIT) compiler, this may take some time.\n",
      "Calling FFC just-in-time (JIT) compiler, this may take some time.\n"
     ]
    }
   ],
   "source": [
    "loss = project(loss,V)"
   ]
  },
  {
   "cell_type": "code",
   "execution_count": 19,
   "id": "d09f8676",
   "metadata": {},
   "outputs": [
    {
     "data": {
      "text/plain": [
       "Coefficient(FunctionSpace(Mesh(VectorElement(FiniteElement('Q', quadrilateral, 1), dim=2), 6), FiniteElement('Q', quadrilateral, 1)), 32)"
      ]
     },
     "execution_count": 19,
     "metadata": {},
     "output_type": "execute_result"
    }
   ],
   "source": [
    "loss"
   ]
  },
  {
   "cell_type": "code",
   "execution_count": 20,
   "id": "ea5d59b9",
   "metadata": {},
   "outputs": [],
   "source": [
    "with XDMFFile(\"loss.xdmf\") as xdmf:\n",
    "    xdmf.write(loss)"
   ]
  },
  {
   "cell_type": "code",
   "execution_count": 21,
   "id": "319901ea-da2f-4853-8409-118bff915388",
   "metadata": {},
   "outputs": [],
   "source": [
    "# gloss = project(grad(loss),VectorFunctionSpace(mesh,\"DG\",0))\n",
    "\n",
    "with XDMFFile(\"gloss.xdmf\") as xdmf:\n",
    "    xdmf.write(gloss)"
   ]
  },
  {
   "cell_type": "code",
   "execution_count": 23,
   "id": "359e9ee5",
   "metadata": {},
   "outputs": [],
   "source": [
    "ph =  Function(D)"
   ]
  },
  {
   "cell_type": "code",
   "execution_count": 24,
   "id": "16a6f869",
   "metadata": {},
   "outputs": [],
   "source": [
    "u = TrialFunction(D)\n",
    "v = TestFunction(D)\n",
    "\n",
    "a = inner(grad(u), grad(v))*dx"
   ]
  },
  {
   "cell_type": "code",
   "execution_count": 25,
   "id": "7d32871f",
   "metadata": {},
   "outputs": [
    {
     "name": "stdout",
     "output_type": "stream",
     "text": [
      "Calling FFC just-in-time (JIT) compiler, this may take some time.\n",
      "Calling FFC just-in-time (JIT) compiler, this may take some time.\n",
      "Calling FFC just-in-time (JIT) compiler, this may take some time.\n",
      "Calling FFC just-in-time (JIT) compiler, this may take some time.\n"
     ]
    }
   ],
   "source": [
    "solve(a == -loss*v*dx,ph)"
   ]
  },
  {
   "cell_type": "code",
   "execution_count": 158,
   "id": "64791f78",
   "metadata": {},
   "outputs": [],
   "source": [
    "with XDMFFile(\"phi.xdmf\") as xdmf:\n",
    "    xdmf.write(ph)"
   ]
  },
  {
   "cell_type": "code",
   "execution_count": 159,
   "id": "a6bf1f79",
   "metadata": {},
   "outputs": [
    {
     "data": {
      "text/plain": [
       "-inf"
      ]
     },
     "execution_count": 159,
     "metadata": {},
     "output_type": "execute_result"
    }
   ],
   "source": [
    "ph.vector().min()"
   ]
  },
  {
   "cell_type": "code",
   "execution_count": 160,
   "id": "ba06af7a",
   "metadata": {},
   "outputs": [
    {
     "data": {
      "text/plain": [
       "-inf"
      ]
     },
     "execution_count": 160,
     "metadata": {},
     "output_type": "execute_result"
    }
   ],
   "source": [
    "ph.vector().max()"
   ]
  },
  {
   "cell_type": "code",
   "execution_count": null,
   "id": "8c5ea46f",
   "metadata": {},
   "outputs": [],
   "source": []
  },
  {
   "cell_type": "code",
   "execution_count": null,
   "id": "634460cd",
   "metadata": {},
   "outputs": [],
   "source": []
  },
  {
   "cell_type": "code",
   "execution_count": null,
   "id": "3a1b00c4",
   "metadata": {},
   "outputs": [],
   "source": []
  },
  {
   "cell_type": "code",
   "execution_count": null,
   "id": "d77a5e86",
   "metadata": {},
   "outputs": [],
   "source": []
  },
  {
   "cell_type": "code",
   "execution_count": null,
   "id": "af3118d5",
   "metadata": {},
   "outputs": [],
   "source": []
  }
 ],
 "metadata": {
  "kernelspec": {
   "display_name": "Python 3",
   "language": "python",
   "name": "python3"
  },
  "language_info": {
   "codemirror_mode": {
    "name": "ipython",
    "version": 3
   },
   "file_extension": ".py",
   "mimetype": "text/x-python",
   "name": "python",
   "nbconvert_exporter": "python",
   "pygments_lexer": "ipython3",
   "version": "3.6.7"
  }
 },
 "nbformat": 4,
 "nbformat_minor": 5
}
